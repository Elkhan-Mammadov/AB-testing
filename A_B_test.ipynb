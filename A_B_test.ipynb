{
 "cells": [
  {
   "cell_type": "code",
   "execution_count": 7,
   "id": "03b57a24",
   "metadata": {},
   "outputs": [],
   "source": [
    "import numpy as np\n",
    "from statsmodels.stats.proportion import proportions_ztest"
   ]
  },
  {
   "cell_type": "markdown",
   "id": "b288e9d2",
   "metadata": {},
   "source": [
    " **Group A: Only notebook sales**"
   ]
  },
  {
   "cell_type": "code",
   "execution_count": null,
   "id": "455f7553",
   "metadata": {},
   "outputs": [],
   "source": [
    "\n",
    "sales_a =180   \n",
    "count_a =1000  "
   ]
  },
  {
   "cell_type": "markdown",
   "id": "d885862d",
   "metadata": {},
   "source": [
    "**Group B: Notebook + pen sales**"
   ]
  },
  {
   "cell_type": "code",
   "execution_count": 10,
   "id": "4afc0bac",
   "metadata": {},
   "outputs": [],
   "source": [
    "sales_b =230   \n",
    "count_b =1000"
   ]
  },
  {
   "cell_type": "markdown",
   "id": "5b6636bc",
   "metadata": {},
   "source": [
    "**Convert to arrays**"
   ]
  },
  {
   "cell_type": "code",
   "execution_count": 11,
   "id": "c6ae93cd",
   "metadata": {},
   "outputs": [],
   "source": [
    "sales = np.array([sales_a, sales_b])\n",
    "counts = np.array([count_a, count_b])"
   ]
  },
  {
   "cell_type": "markdown",
   "id": "2981f66e",
   "metadata": {},
   "source": [
    "**Z-test**"
   ]
  },
  {
   "cell_type": "code",
   "execution_count": 12,
   "id": "746d1b54",
   "metadata": {},
   "outputs": [
    {
     "name": "stdout",
     "output_type": "stream",
     "text": [
      "z-statistic: -2.77\n",
      "p-value: 0.0056\n"
     ]
    }
   ],
   "source": [
    "statistic,p_value = proportions_ztest(sales,counts)\n",
    "print(f\"z-statistic: {statistic:.2f}\")\n",
    "print(f\"p-value: {p_value:.4f}\")"
   ]
  },
  {
   "cell_type": "code",
   "execution_count": 13,
   "id": "0dc9fcb8",
   "metadata": {},
   "outputs": [
    {
     "name": "stdout",
     "output_type": "stream",
     "text": [
      "The difference is statistically significant — Variant B performs better.\n"
     ]
    }
   ],
   "source": [
    "if p_value < 0.05:\n",
    "    print(\"The difference is statistically significant — Variant B performs better.\")\n",
    "else:\n",
    "    print(\"No statistically significant difference — Variants perform similarly.\")"
   ]
  },
  {
   "cell_type": "markdown",
   "id": "7877ade6",
   "metadata": {},
   "source": [
    "**Result : The p-value is 0.0056, which is less than 0.05, so Variant B performs significantly better than Variant A.**"
   ]
  }
 ],
 "metadata": {
  "kernelspec": {
   "display_name": "Python 3",
   "language": "python",
   "name": "python3"
  },
  "language_info": {
   "codemirror_mode": {
    "name": "ipython",
    "version": 3
   },
   "file_extension": ".py",
   "mimetype": "text/x-python",
   "name": "python",
   "nbconvert_exporter": "python",
   "pygments_lexer": "ipython3",
   "version": "3.13.0"
  }
 },
 "nbformat": 4,
 "nbformat_minor": 5
}
